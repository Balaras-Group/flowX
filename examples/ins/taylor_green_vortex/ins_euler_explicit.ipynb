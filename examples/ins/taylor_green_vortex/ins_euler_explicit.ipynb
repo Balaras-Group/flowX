{
 "cells": [
  {
   "cell_type": "code",
   "execution_count": 1,
   "metadata": {},
   "outputs": [
    {
     "ename": "ModuleNotFoundError",
     "evalue": "No module named 'flowx'",
     "output_type": "error",
     "traceback": [
      "\u001b[0;31m---------------------------------------------------------------------------\u001b[0m",
      "\u001b[0;31mModuleNotFoundError\u001b[0m                       Traceback (most recent call last)",
      "\u001b[0;32m<ipython-input-1-ba785361066a>\u001b[0m in \u001b[0;36m<module>\u001b[0;34m\u001b[0m\n\u001b[1;32m      1\u001b[0m \u001b[0;31m# Sample API\u001b[0m\u001b[0;34m\u001b[0m\u001b[0;34m\u001b[0m\u001b[0;34m\u001b[0m\u001b[0m\n\u001b[0;32m----> 2\u001b[0;31m \u001b[0;32mimport\u001b[0m \u001b[0mflowx\u001b[0m\u001b[0;34m\u001b[0m\u001b[0;34m\u001b[0m\u001b[0m\n\u001b[0m\u001b[1;32m      3\u001b[0m \u001b[0;32mimport\u001b[0m \u001b[0msimulation\u001b[0m\u001b[0;34m\u001b[0m\u001b[0;34m\u001b[0m\u001b[0m\n\u001b[1;32m      4\u001b[0m \u001b[0;32mimport\u001b[0m \u001b[0mnumpy\u001b[0m\u001b[0;34m\u001b[0m\u001b[0;34m\u001b[0m\u001b[0m\n\u001b[1;32m      5\u001b[0m \u001b[0mflowx\u001b[0m\u001b[0;34m.\u001b[0m\u001b[0m__version__\u001b[0m\u001b[0;34m\u001b[0m\u001b[0;34m\u001b[0m\u001b[0m\n",
      "\u001b[0;31mModuleNotFoundError\u001b[0m: No module named 'flowx'"
     ]
    }
   ],
   "source": [
    "# Sample API\n",
    "import flowx\n",
    "import simulation\n",
    "import numpy\n",
    "flowx.__version__"
   ]
  },
  {
   "cell_type": "code",
   "execution_count": 2,
   "metadata": {},
   "outputs": [
    {
     "ename": "NameError",
     "evalue": "name 'numpy' is not defined",
     "output_type": "error",
     "traceback": [
      "\u001b[0;31m---------------------------------------------------------------------------\u001b[0m",
      "\u001b[0;31mNameError\u001b[0m                                 Traceback (most recent call last)",
      "\u001b[0;32m<ipython-input-2-3e5691b6e22d>\u001b[0m in \u001b[0;36m<module>\u001b[0;34m\u001b[0m\n\u001b[1;32m      2\u001b[0m \u001b[0mnx\u001b[0m\u001b[0;34m,\u001b[0m \u001b[0mny\u001b[0m \u001b[0;34m=\u001b[0m \u001b[0;36m40\u001b[0m\u001b[0;34m,\u001b[0m \u001b[0;36m40\u001b[0m\u001b[0;34m\u001b[0m\u001b[0;34m\u001b[0m\u001b[0m\n\u001b[1;32m      3\u001b[0m \u001b[0;34m\u001b[0m\u001b[0m\n\u001b[0;32m----> 4\u001b[0;31m \u001b[0mxmin\u001b[0m\u001b[0;34m,\u001b[0m \u001b[0mxmax\u001b[0m \u001b[0;34m=\u001b[0m \u001b[0;36m0.0\u001b[0m\u001b[0;34m,\u001b[0m \u001b[0;36m2.0\u001b[0m\u001b[0;34m*\u001b[0m\u001b[0mnumpy\u001b[0m\u001b[0;34m.\u001b[0m\u001b[0mpi\u001b[0m\u001b[0;34m\u001b[0m\u001b[0;34m\u001b[0m\u001b[0m\n\u001b[0m\u001b[1;32m      5\u001b[0m \u001b[0mymin\u001b[0m\u001b[0;34m,\u001b[0m \u001b[0mymax\u001b[0m \u001b[0;34m=\u001b[0m \u001b[0;36m0.0\u001b[0m\u001b[0;34m,\u001b[0m \u001b[0;36m2.0\u001b[0m\u001b[0;34m*\u001b[0m\u001b[0mnumpy\u001b[0m\u001b[0;34m.\u001b[0m\u001b[0mpi\u001b[0m\u001b[0;34m\u001b[0m\u001b[0;34m\u001b[0m\u001b[0m\n\u001b[1;32m      6\u001b[0m \u001b[0;34m\u001b[0m\u001b[0m\n",
      "\u001b[0;31mNameError\u001b[0m: name 'numpy' is not defined"
     ]
    }
   ],
   "source": [
    "# Define grid parameters\n",
    "nx, ny = 40, 40\n",
    "\n",
    "xmin, xmax = 0.0, 2.0*numpy.pi\n",
    "ymin, ymax = 0.0, 2.0*numpy.pi\n",
    "\n",
    "# Define cell-centered variable names\n",
    "center_vars = ['pres', 'divv', 'asol', 'eror']\n",
    "face_vars   = ['velc', 'hvar', 'asol', 'eror']\n",
    "\n",
    "# Define boundary conditions for variable pressure and velocity [left, right, bottom, top]\n",
    "bc_type_pres = {'pres': ['neumann', 'neumann', 'neumann', 'neumann']}\n",
    "bc_val_pres  = {'pres': [0.0, 0.0, 0.0, 0.0]}\n",
    "\n",
    "bc_type_u = {'velc': ['dirichlet', 'dirichlet', 'dirichlet', 'dirichlet']}\n",
    "bc_val_u  = {'velc': [0.0, 0.0, 0.0, 0.0]}\n",
    "\n",
    "bc_type_v = {'velc': ['dirichlet', 'dirichlet', 'dirichlet', 'dirichlet']}\n",
    "bc_val_v  = {'velc': [0.0, 0.0, 0.0, 0.0]}\n",
    "\n",
    "# Create the grid and data\n",
    "gridc = flowx.Grid('cell-centered', center_vars,\n",
    "                    nx, ny, xmin, xmax, ymin, ymax,\n",
    "                    user_bc_type=bc_type_pres, user_bc_val=bc_val_pres)\n",
    "\n",
    "gridx = flowx.Grid('x-face', face_vars,\n",
    "                    nx, ny, xmin, xmax, ymin, ymax,\n",
    "                    user_bc_type=bc_type_u, user_bc_val=bc_val_u)\n",
    "\n",
    "gridy = flowx.Grid('y-face', face_vars,\n",
    "                    nx, ny, xmin, xmax, ymin, ymax,\n",
    "                    user_bc_type=bc_type_v, user_bc_val=bc_val_v)\n",
    "\n",
    "scalars = flowx.Scalars(tmax=2, dt=0.001, Re=1.0)\n",
    "\n",
    "simulation.update_bc_val(gridx, gridy, 'velc', scalars.variable['to'])"
   ]
  },
  {
   "cell_type": "code",
   "execution_count": null,
   "metadata": {},
   "outputs": [],
   "source": [
    "simulation.get_initial(gridc, gridx, gridy, 'velc', 'pres')"
   ]
  },
  {
   "cell_type": "code",
   "execution_count": null,
   "metadata": {},
   "outputs": [],
   "source": [
    "flowx.io.plot_contour(gridc, 'pres')\n",
    "flowx.io.plot_contour(gridx, 'velc')\n",
    "flowx.io.plot_contour(gridy, 'velc')\n",
    "flowx.io.plot_vector(gridx, gridy, 'velc')"
   ]
  },
  {
   "cell_type": "code",
   "execution_count": null,
   "metadata": {},
   "outputs": [],
   "source": [
    "ins_vars = ['velc', 'hvar', 'divv', 'pres']\n",
    "\n",
    "while scalars.variable['time'] <= scalars.variable['tmax']:\n",
    "    \n",
    "    # Update the time-dependent boundary condition value\n",
    "    simulation.update_bc_val(gridx, gridy, 'velc', scalars.variable['time'])\n",
    "    \n",
    "    # Predictor Step\n",
    "    flowx.ins.advance_euler(gridc, gridx, gridy, scalars, ins_vars, 'predictor')\n",
    "    \n",
    "    # Divergence Step\n",
    "    flowx.ins.advance_euler(gridc, gridx, gridy, scalars, ins_vars, 'divergence')\n",
    "    \n",
    "    # Solve the pressure Poisson equation \n",
    "    scalars.stats['ites'], scalars.stats['res'] = flowx.poisson.solve_jacobi(gridc, 'pres', 'divv',\n",
    "                                                                       maxiter=10000, tol=1e-9)\n",
    "    # Corrector Step\n",
    "    flowx.ins.advance_euler(gridc, gridx, gridy, scalars, ins_vars, 'corrector')\n",
    "    \n",
    "    # Display stats\n",
    "    if scalars.variable['nstep'] % 10 == 0:\n",
    "        flowx.io.display_stats(scalars)   \n",
    "    \n",
    "    scalars.advance()"
   ]
  },
  {
   "cell_type": "code",
   "execution_count": null,
   "metadata": {},
   "outputs": [],
   "source": [
    "simulation.get_analytical(gridc, gridx, gridy, 'asol', scalars.variable['time'])"
   ]
  },
  {
   "cell_type": "code",
   "execution_count": null,
   "metadata": {},
   "outputs": [],
   "source": [
    "flowx.io.plot_contour(gridx, 'velc')\n",
    "flowx.io.plot_contour(gridx, 'asol')\n",
    "flowx.io.plot_contour(gridc, 'divv')"
   ]
  },
  {
   "cell_type": "code",
   "execution_count": null,
   "metadata": {},
   "outputs": [],
   "source": [
    "gridx.get_error('eror','velc','asol')\n",
    "gridy.get_error('eror','velc','asol')"
   ]
  },
  {
   "cell_type": "code",
   "execution_count": null,
   "metadata": {},
   "outputs": [],
   "source": [
    "flowx.io.plot_contour(gridx, 'eror')\n",
    "flowx.io.plot_contour(gridy, 'eror')"
   ]
  }
 ],
 "metadata": {
  "kernelspec": {
   "display_name": "Python 3",
   "language": "python",
   "name": "python3"
  },
  "language_info": {
   "codemirror_mode": {
    "name": "ipython",
    "version": 3
   },
   "file_extension": ".py",
   "mimetype": "text/x-python",
   "name": "python",
   "nbconvert_exporter": "python",
   "pygments_lexer": "ipython3",
   "version": "3.7.3"
  }
 },
 "nbformat": 4,
 "nbformat_minor": 2
}
