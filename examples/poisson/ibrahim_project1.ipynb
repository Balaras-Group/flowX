{
 "cells": [
  {
   "cell_type": "code",
   "execution_count": null,
   "metadata": {},
   "outputs": [],
   "source": [
    "import flowx\n",
    "# 'import' gain access to the code in another module. The statement combines two operations:\n",
    "# (1) it searches for the named module (2) It binds the result of that search to a name in the local scope\n",
    "import simulation\n",
    "import time\n",
    "from matplotlib import pyplot as plt\n",
    "import csv\n",
    "\n",
    "flowx.__version__"
   ]
  },
  {
   "cell_type": "code",
   "execution_count": null,
   "metadata": {},
   "outputs": [],
   "source": [
    "# This code solves the Poisson equation in the form of\n",
    "# u_xx + u_yy = (-8pi^2)sin(2pix)sin(2py)\n",
    "\n",
    "# The analytical solution is given as\n",
    "# u(x,y) = sin(2pix)sin(2piy) - (Dirichlet)\n",
    "# u(x,y) = cos(2pix)cos(2piy) - (Neumann)\n",
    "\n",
    "# Define grid parameters\n",
    "nx, ny = 10, 10\n",
    "xmin, xmax = 0.0, 1.0\n",
    "ymin, ymax = 0.0, 1.0\n",
    "\n",
    "# Define cell-centered variables\n",
    "center_vars = ['asol','ivar','rhs','error']\n",
    "# center_vars is a python array\n",
    "\n",
    "# Define boundary condition\n",
    "bc = 'neumann'\n",
    "\n",
    "# Define numerical solver\n",
    "# Available options are:\n",
    "  #Jacobi,Gauss-Seidel,CG_scipy,SDescent,Direct Solver\n",
    "# Default solver is Gauss-Seidel\n",
    "\n",
    "num_type = 'Gauss-Seidel'\n",
    "numsol = {'ivar':num_type}\n",
    "\n",
    "# Assign bc to variables\n",
    "bc_type = {'ivar':[bc,bc,bc,bc]}\n",
    "bc_val = {'ivar':[0.0,0.0,0.0,0.0]}\n",
    "# bc_type and bc_val are dictionaries. They link the keyword 'ivar', which is our variable,\n",
    "# to boundary conditions on four edges.\n",
    "\n",
    "# Create the grid object\n",
    "grid = flowx.Grid('cell-centered',center_vars,nx,ny,xmin,xmax,ymin,ymax,user_num_solver=numsol,\n",
    "                   user_bc_type=bc_type,user_bc_val=bc_val)\n",
    "# flowx is a library, Grid is a class and grid is an object."
   ]
  },
  {
   "cell_type": "code",
   "execution_count": null,
   "metadata": {},
   "outputs": [],
   "source": [
    "# Analytical solution\n",
    "simulation.get_analytical(grid,'asol',bc)"
   ]
  },
  {
   "cell_type": "code",
   "execution_count": null,
   "metadata": {},
   "outputs": [],
   "source": [
    "flowx.io.plot_contour(grid,'asol')"
   ]
  },
  {
   "cell_type": "code",
   "execution_count": null,
   "metadata": {
    "scrolled": true
   },
   "outputs": [],
   "source": [
    "# Numerical solution\n",
    "simulation.get_rhs(grid,'rhs',bc)\n",
    "data = simulation.get_numerical(grid,'ivar','rhs',num_type)\n",
    "simulation.write_to_file(num_type,bc,data,nx)"
   ]
  },
  {
   "cell_type": "code",
   "execution_count": null,
   "metadata": {},
   "outputs": [],
   "source": [
    "grid.get_error('error','ivar','asol')"
   ]
  },
  {
   "cell_type": "code",
   "execution_count": null,
   "metadata": {
    "scrolled": true
   },
   "outputs": [],
   "source": [
    "grid.get_l2_norm('error')"
   ]
  },
  {
   "cell_type": "code",
   "execution_count": null,
   "metadata": {},
   "outputs": [],
   "source": [
    "flowx.io.plot_contour(grid,'ivar')"
   ]
  }
 ],
 "metadata": {
  "kernelspec": {
   "display_name": "Python 3",
   "language": "python",
   "name": "python3"
  },
  "language_info": {
   "codemirror_mode": {
    "name": "ipython",
    "version": 3
   },
   "file_extension": ".py",
   "mimetype": "text/x-python",
   "name": "python",
   "nbconvert_exporter": "python",
   "pygments_lexer": "ipython3",
   "version": "3.7.4"
  }
 },
 "nbformat": 4,
 "nbformat_minor": 2
}
