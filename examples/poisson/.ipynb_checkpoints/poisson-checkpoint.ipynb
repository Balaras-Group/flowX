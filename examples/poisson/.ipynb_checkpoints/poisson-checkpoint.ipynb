{
 "cells": [
  {
   "cell_type": "code",
   "execution_count": 1,
   "metadata": {},
   "outputs": [
    {
     "ename": "IndentationError",
     "evalue": "unexpected indent (gauss.py, line 36)",
     "output_type": "error",
     "traceback": [
      "Traceback \u001b[0;36m(most recent call last)\u001b[0m:\n",
      "  File \u001b[1;32m\"/Users/SaraY/opt/anaconda3/lib/python3.7/site-packages/IPython/core/interactiveshell.py\"\u001b[0m, line \u001b[1;32m3326\u001b[0m, in \u001b[1;35mrun_code\u001b[0m\n    exec(code_obj, self.user_global_ns, self.user_ns)\n",
      "  File \u001b[1;32m\"<ipython-input-1-8c3b18af2ead>\"\u001b[0m, line \u001b[1;32m2\u001b[0m, in \u001b[1;35m<module>\u001b[0m\n    import flowx\n",
      "  File \u001b[1;32m\"/Users/SaraY/MAE-6225/flowx/__init__.py\"\u001b[0m, line \u001b[1;32m3\u001b[0m, in \u001b[1;35m<module>\u001b[0m\n    import flowx.poisson\n",
      "\u001b[0;36m  File \u001b[0;32m\"/Users/SaraY/MAE-6225/flowx/poisson/__init__.py\"\u001b[0;36m, line \u001b[0;32m2\u001b[0;36m, in \u001b[0;35m<module>\u001b[0;36m\u001b[0m\n\u001b[0;31m    from .gauss import solve_gauss_seidel\u001b[0m\n",
      "\u001b[0;36m  File \u001b[0;32m\"/Users/SaraY/MAE-6225/flowx/poisson/gauss.py\"\u001b[0;36m, line \u001b[0;32m36\u001b[0m\n\u001b[0;31m    phi = grid.get_values(ivar)\u001b[0m\n\u001b[0m    ^\u001b[0m\n\u001b[0;31mIndentationError\u001b[0m\u001b[0;31m:\u001b[0m unexpected indent\n"
     ]
    }
   ],
   "source": [
    "# Sample API\n",
    "import flowx\n",
    "import simulation\n",
    "flowx.__version__"
   ]
  },
  {
   "cell_type": "code",
   "execution_count": null,
   "metadata": {},
   "outputs": [],
   "source": [
    "# Define grid parameters\n",
    "nx, ny = 40, 40\n",
    "xmin, xmax = 0.0, 1.0\n",
    "ymin, ymax = 0.0, 1.0\n",
    "\n",
    "# Define cell-centered variable names\n",
    "center_vars = ['asol', 'ivar', 'rvar', 'eror']\n",
    "\n",
    "# Define boundary condition for the poisson test\n",
    "user_bc = 'neumann'\n",
    "\n",
    "# Define boundary conditions for variable ivar\n",
    "bc_type = {'ivar': [user_bc, user_bc, user_bc, user_bc]}\n",
    "bc_val  = {'ivar': [0.0, 0.0, 0.0, 0.0]}\n",
    "\n",
    "# Create the grid and data\n",
    "grid = flowx.Grid('cell-centered', center_vars,\n",
    "                    nx, ny, xmin, xmax, ymin, ymax,\n",
    "                    user_bc_type=bc_type, user_bc_val=bc_val)"
   ]
  },
  {
   "cell_type": "code",
   "execution_count": null,
   "metadata": {},
   "outputs": [],
   "source": [
    "# Compute the analytical solution \n",
    "simulation.get_analytical(grid, 'asol', user_bc)"
   ]
  },
  {
   "cell_type": "code",
   "execution_count": null,
   "metadata": {},
   "outputs": [],
   "source": [
    "\n",
    "# Plot the analytical solution\n",
    "flowx.io.plot_contour(grid, 'asol')"
   ]
  },
  {
   "cell_type": "code",
   "execution_count": null,
   "metadata": {},
   "outputs": [],
   "source": [
    "# Calculate the right-hand side of the Poisson system\n",
    "simulation.get_rhs(grid, 'rvar', user_bc)"
   ]
  },
  {
   "cell_type": "code",
   "execution_count": null,
   "metadata": {},
   "outputs": [],
   "source": [
    "# Plot the right-hand side of the Poisson system\n",
    "flowx.io.plot_contour(grid, 'rvar')"
   ]
  },
  {
   "cell_type": "code",
   "execution_count": null,
   "metadata": {},
   "outputs": [],
   "source": [
    "# Solve the Poisson system\n",
    "ites, res = flowx.poisson.solve_jacobi(grid, 'ivar', 'rvar',\n",
    "                                         maxiter=10000, tol=1e-9, verbose=True)"
   ]
  },
  {
   "cell_type": "code",
   "execution_count": null,
   "metadata": {},
   "outputs": [],
   "source": [
    "# Plot the numerical solution\n",
    "flowx.io.plot_contour(grid, 'ivar')"
   ]
  },
  {
   "cell_type": "code",
   "execution_count": null,
   "metadata": {},
   "outputs": [],
   "source": [
    "# Compute the error (absolute value of the difference)\n",
    "grid.get_error('eror', 'ivar', 'asol')"
   ]
  },
  {
   "cell_type": "code",
   "execution_count": null,
   "metadata": {},
   "outputs": [],
   "source": [
    "# Plot the error\n",
    "flowx.io.plot_contour(grid, 'eror')"
   ]
  },
  {
   "cell_type": "code",
   "execution_count": null,
   "metadata": {},
   "outputs": [],
   "source": [
    "# Compute the L2-norm of the error.\n",
    "l2_norm = grid.get_l2_norm('eror')"
   ]
  },
  {
   "cell_type": "code",
   "execution_count": null,
   "metadata": {},
   "outputs": [],
   "source": [
    "l2_norm"
   ]
  }
 ],
 "metadata": {
  "kernelspec": {
   "display_name": "Python 3",
   "language": "python",
   "name": "python3"
  },
  "language_info": {
   "codemirror_mode": {
    "name": "ipython",
    "version": 3
   },
   "file_extension": ".py",
   "mimetype": "text/x-python",
   "name": "python",
   "nbconvert_exporter": "python",
   "pygments_lexer": "ipython3",
   "version": "3.7.4"
  }
 },
 "nbformat": 4,
 "nbformat_minor": 2
}
